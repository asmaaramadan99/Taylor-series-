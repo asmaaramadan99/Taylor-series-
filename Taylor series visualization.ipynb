{
 "cells": [
  {
   "cell_type": "code",
   "execution_count": 112,
   "metadata": {},
   "outputs": [],
   "source": [
    "import numpy as np\n",
    "import matplotlib.pyplot as plt \n",
    "from sympy import factorial, sin, cos, tan, sec, csc, cot, acos, asin, atan, asec, acsc, acot\n",
    "from sympy import *"
   ]
  },
  {
   "cell_type": "code",
   "execution_count": 113,
   "metadata": {},
   "outputs": [],
   "source": [
    "def constructPoly (function,derivatives,degree,a):\n",
    "    x=Symbol('x')\n",
    "    polynomial=0\n",
    "    polynomial += eval(function).subs(x,a)\n",
    "    print(polynomial)\n",
    "    for i in range(0,degree):\n",
    "        polynomial+=((derivatives[i] *(x-a)**(i+1))/factorial(i+1))\n",
    "      \n",
    "        \n",
    "\n",
    "    return polynomial"
   ]
  },
  {
   "cell_type": "code",
   "execution_count": 114,
   "metadata": {},
   "outputs": [],
   "source": [
    "def constructDerivatives(function,degree,derivatives,a) :\n",
    "    x = Symbol('x')\n",
    "    for i in range (0,degree):\n",
    "        fprime=function.diff(x)\n",
    "        function=fprime \n",
    "        print(fprime)\n",
    "        fp=fp=lambdify(x, fprime)\n",
    "        derivatives.append(fp(a))\n",
    "        \n",
    "\n",
    "    return derivatives"
   ]
  },
  {
   "cell_type": "code",
   "execution_count": 115,
   "metadata": {},
   "outputs": [],
   "source": [
    "def computeY (poly,val):\n",
    "    x = Symbol('x')\n",
    "    return poly.subs(x,val)"
   ]
  },
  {
   "cell_type": "code",
   "execution_count": 116,
   "metadata": {},
   "outputs": [],
   "source": [
    "def getAxis(poly):\n",
    "    x_axis= np.arange(-100,100,00.1)\n",
    "    y_axis=[]\n",
    "    \n",
    "    for i in range (0,len(x_axis)) :\n",
    "        y_axis.append(computeY(poly,x_axis[i]))\n",
    "\n",
    "    return x_axis,y_axis    \n",
    "    "
   ]
  },
  {
   "cell_type": "code",
   "execution_count": 117,
   "metadata": {},
   "outputs": [],
   "source": [
    "def graph(function,x_axis,y_axis):\n",
    "    plt.ylim(-15, 15)\n",
    "    plt.xlim(-20, 20)\n",
    "    #plot new\n",
    "    plt.plot(x_axis,y_axis)\n",
    "    #plot original\n",
    "    \n",
    "    plt.plot(x_axis,np.sin(x_axis))\n",
    "    plt.legend([\"taylor\", \"sin(x)\"])\n",
    "\n",
    "    \n",
    "    "
   ]
  },
  {
   "cell_type": "code",
   "execution_count": 118,
   "metadata": {},
   "outputs": [
    {
     "name": "stdout",
     "output_type": "stream",
     "text": [
      "cos(x)\n",
      "-sin(x)\n",
      "-cos(x)\n",
      "[-0.9899924966004454, -0.1411200080598672, 0.9899924966004454]\n",
      "sin(3)\n",
      "sin(3) + 0.754433743137105\n",
      "sin(3) + 0.754433743137105\n"
     ]
    },
    {
     "data": {
      "image/png": "[encoded data removed]",
      "text/plain": [
       "<Figure size 432x288 with 1 Axes>"
      ]
     },
     "metadata": {
      "needs_background": "light"
     },
     "output_type": "display_data"
    }
   ],
   "source": [
    "x = Symbol('x')\n",
    "derivatives =[]\n",
    "p=constructDerivatives(sin(x),3,derivatives,3)\n",
    "print(derivatives)\n",
    "poly=constructPoly(\"sin(x)\",derivatives,3,3)\n",
    "print(computeY(poly,2))\n",
    "print(poly.subs(x,2))\n",
    "x_axis,y_axis=getAxis(poly)\n",
    "graph(sin(x),x_axis,y_axis)"
   ]
  },
  {
   "cell_type": "code",
   "execution_count": null,
   "metadata": {},
   "outputs": [],
   "source": []
  },
  {
   "cell_type": "code",
   "execution_count": null,
   "metadata": {},
   "outputs": [],
   "source": []
  }
 ],
 "metadata": {
  "kernelspec": {
   "display_name": "Python 3",
   "language": "python",
   "name": "python3"
  },
  "language_info": {
   "codemirror_mode": {
    "name": "ipython",
    "version": 3
   },
   "file_extension": ".py",
   "mimetype": "text/x-python",
   "name": "python",
   "nbconvert_exporter": "python",
   "pygments_lexer": "ipython3",
   "version": "3.7.6"
  }
 },
 "nbformat": 4,
 "nbformat_minor": 4
}
